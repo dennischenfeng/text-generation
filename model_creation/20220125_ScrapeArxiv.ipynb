{
 "cells": [
  {
   "cell_type": "code",
   "execution_count": 327,
   "id": "565b5065-e954-4882-b2ff-a3651b485339",
   "metadata": {},
   "outputs": [],
   "source": [
    "import numpy as np\n",
    "import pandas as pd\n",
    "from urllib.request import urlopen\n",
    "import xmltodict\n",
    "import time\n",
    "from tqdm import tqdm"
   ]
  },
  {
   "cell_type": "code",
   "execution_count": 328,
   "id": "5260c2b3-28c4-4cd8-a60f-c63477845773",
   "metadata": {},
   "outputs": [],
   "source": [
    "categories = [\n",
    "    \"cs.ai\",\n",
    "    \"cs.cv\",\n",
    "    \"cs.lg\",\n",
    "    \"cs.cl\",\n",
    "    \"stat.ml\"\n",
    "]"
   ]
  },
  {
   "cell_type": "code",
   "execution_count": 336,
   "id": "ce013ba1-3ff5-4993-92d5-98e7b85978e5",
   "metadata": {},
   "outputs": [],
   "source": [
    "\n",
    "def arxiv_abstracts(\n",
    "    category: str, start_index: int = 0, max_results: int = 100\n",
    ") -> pd.DataFrame:\n",
    "    \"\"\"\n",
    "    Scrapes arxiv for abstracts.\n",
    "    \"\"\"\n",
    "    url = (\n",
    "        f'http://export.arxiv.org/api/query?'\n",
    "        f'search_query=cat:{category}&'\n",
    "        f'start={start_index}&'\n",
    "        f'max_results={max_results}&'\n",
    "        f'sortBy=submittedDate&'\n",
    "        f'sortOrder=descending'\n",
    "    )\n",
    "    print(url)\n",
    "    raw_data = urlopen(url)\n",
    "    xml_data = raw_data.read().decode('utf-8')\n",
    "    data = xmltodict.parse(xml_data)\n",
    "    \n",
    "    df = pd.DataFrame(columns=[\"publish_date\", \"abstract\"])\n",
    "    abstracts = []\n",
    "    entries = data[\"feed\"].get(\"entry\")\n",
    "    if entries:\n",
    "        for entry in entries:\n",
    "            publish_date = entry[\"published\"]\n",
    "            summary = entry[\"summary\"].replace(\"\\n\", \" \")\n",
    "            df = pd.concat([\n",
    "                df, \n",
    "                pd.DataFrame({\n",
    "                    \"publish_date\": [publish_date], \"abstract\": [summary]\n",
    "                })\n",
    "            ])\n",
    "    else:\n",
    "        print(f\"Empty df: {category}, {start_index}, {max_results}\")\n",
    "        \n",
    "    return df.reset_index(drop=True)\n",
    "    "
   ]
  },
  {
   "cell_type": "code",
   "execution_count": 337,
   "id": "f6ffa25e-b15e-4647-9b57-5c6c8f7fe7bb",
   "metadata": {},
   "outputs": [
    {
     "name": "stderr",
     "output_type": "stream",
     "text": [
      "  0%|                                                                                             | 0/612 [00:00<?, ?it/s]"
     ]
    },
    {
     "name": "stdout",
     "output_type": "stream",
     "text": [
      "http://export.arxiv.org/api/query?search_query=cat:cs.cv&start=47000&max_results=250&sortBy=submittedDate&sortOrder=descending\n",
      "Empty df: cs.cv, 47000, 250\n",
      "http://export.arxiv.org/api/query?search_query=cat:cs.lg&start=47000&max_results=250&sortBy=submittedDate&sortOrder=descending\n",
      "Empty df: cs.lg, 47000, 250\n",
      "http://export.arxiv.org/api/query?search_query=cat:stat.ml&start=47000&max_results=250&sortBy=submittedDate&sortOrder=descending\n",
      "Empty df: stat.ml, 47000, 250\n"
     ]
    },
    {
     "name": "stderr",
     "output_type": "stream",
     "text": [
      "  0%|▏                                                                                  | 1/612 [00:07<1:14:55,  7.36s/it]"
     ]
    },
    {
     "name": "stdout",
     "output_type": "stream",
     "text": [
      "http://export.arxiv.org/api/query?search_query=cat:cs.cv&start=47250&max_results=250&sortBy=submittedDate&sortOrder=descending\n",
      "Empty df: cs.cv, 47250, 250\n",
      "http://export.arxiv.org/api/query?search_query=cat:cs.lg&start=47250&max_results=250&sortBy=submittedDate&sortOrder=descending\n",
      "Empty df: cs.lg, 47250, 250\n",
      "http://export.arxiv.org/api/query?search_query=cat:stat.ml&start=47250&max_results=250&sortBy=submittedDate&sortOrder=descending\n",
      "Empty df: stat.ml, 47250, 250\n"
     ]
    },
    {
     "name": "stderr",
     "output_type": "stream",
     "text": [
      "  0%|▎                                                                                  | 2/612 [00:14<1:14:01,  7.28s/it]"
     ]
    },
    {
     "name": "stdout",
     "output_type": "stream",
     "text": [
      "http://export.arxiv.org/api/query?search_query=cat:cs.cv&start=47500&max_results=250&sortBy=submittedDate&sortOrder=descending\n",
      "Empty df: cs.cv, 47500, 250\n",
      "http://export.arxiv.org/api/query?search_query=cat:cs.lg&start=47500&max_results=250&sortBy=submittedDate&sortOrder=descending\n",
      "Empty df: cs.lg, 47500, 250\n",
      "http://export.arxiv.org/api/query?search_query=cat:stat.ml&start=47500&max_results=250&sortBy=submittedDate&sortOrder=descending\n",
      "Empty df: stat.ml, 47500, 250\n"
     ]
    },
    {
     "name": "stderr",
     "output_type": "stream",
     "text": [
      "  0%|▍                                                                                  | 3/612 [00:22<1:15:44,  7.46s/it]"
     ]
    },
    {
     "name": "stdout",
     "output_type": "stream",
     "text": [
      "http://export.arxiv.org/api/query?search_query=cat:cs.cv&start=47750&max_results=250&sortBy=submittedDate&sortOrder=descending\n",
      "Empty df: cs.cv, 47750, 250\n",
      "http://export.arxiv.org/api/query?search_query=cat:cs.lg&start=47750&max_results=250&sortBy=submittedDate&sortOrder=descending\n",
      "Empty df: cs.lg, 47750, 250\n",
      "http://export.arxiv.org/api/query?search_query=cat:stat.ml&start=47750&max_results=250&sortBy=submittedDate&sortOrder=descending\n",
      "Empty df: stat.ml, 47750, 250\n"
     ]
    },
    {
     "name": "stderr",
     "output_type": "stream",
     "text": [
      "  1%|▌                                                                                  | 4/612 [00:30<1:18:22,  7.74s/it]"
     ]
    },
    {
     "name": "stdout",
     "output_type": "stream",
     "text": [
      "http://export.arxiv.org/api/query?search_query=cat:cs.cv&start=48000&max_results=250&sortBy=submittedDate&sortOrder=descending\n",
      "Empty df: cs.cv, 48000, 250\n",
      "http://export.arxiv.org/api/query?search_query=cat:cs.lg&start=48000&max_results=250&sortBy=submittedDate&sortOrder=descending\n"
     ]
    },
    {
     "name": "stderr",
     "output_type": "stream",
     "text": [
      "  1%|▌                                                                                  | 4/612 [00:39<1:38:50,  9.75s/it]\n"
     ]
    },
    {
     "ename": "KeyboardInterrupt",
     "evalue": "",
     "output_type": "error",
     "traceback": [
      "\u001b[0;31m---------------------------------------------------------------------------\u001b[0m",
      "\u001b[0;31mKeyboardInterrupt\u001b[0m                         Traceback (most recent call last)",
      "Input \u001b[0;32mIn [337]\u001b[0m, in \u001b[0;36m<module>\u001b[0;34m\u001b[0m\n\u001b[1;32m      9\u001b[0m df \u001b[38;5;241m=\u001b[39m arxiv_abstracts(c, start_index, max_results)\n\u001b[1;32m     10\u001b[0m df\u001b[38;5;241m.\u001b[39mto_csv(\u001b[38;5;124mf\u001b[39m\u001b[38;5;124m'\u001b[39m\u001b[38;5;124mdata/part2/abstracts.\u001b[39m\u001b[38;5;132;01m{\u001b[39;00mc\u001b[38;5;132;01m}\u001b[39;00m\u001b[38;5;124m.csv\u001b[39m\u001b[38;5;124m'\u001b[39m, mode\u001b[38;5;241m=\u001b[39m\u001b[38;5;124m'\u001b[39m\u001b[38;5;124ma\u001b[39m\u001b[38;5;124m'\u001b[39m, header\u001b[38;5;241m=\u001b[39m\u001b[38;5;28;01mFalse\u001b[39;00m, index\u001b[38;5;241m=\u001b[39m\u001b[38;5;28;01mFalse\u001b[39;00m)\n\u001b[0;32m---> 11\u001b[0m \u001b[43mtime\u001b[49m\u001b[38;5;241;43m.\u001b[39;49m\u001b[43msleep\u001b[49m\u001b[43m(\u001b[49m\u001b[38;5;241;43m2\u001b[39;49m\u001b[43m)\u001b[49m\n",
      "\u001b[0;31mKeyboardInterrupt\u001b[0m: "
     ]
    }
   ],
   "source": [
    "categories = [\n",
    "    \"cs.cv\",\n",
    "    \"cs.lg\",\n",
    "    \"stat.ml\"\n",
    "]\n",
    "max_results = 250\n",
    "for start_index in tqdm(range(47_000, 200_000, max_results)):\n",
    "    for c in categories:\n",
    "        df = arxiv_abstracts(c, start_index, max_results)\n",
    "        df.to_csv(f'data/part2/abstracts.{c}.csv', mode='a', header=False, index=False)\n",
    "        time.sleep(2)"
   ]
  },
  {
   "cell_type": "code",
   "execution_count": 333,
   "id": "30537938-3597-43ea-b2a8-589e36807c51",
   "metadata": {},
   "outputs": [],
   "source": [
    "url"
   ]
  },
  {
   "cell_type": "code",
   "execution_count": null,
   "id": "b184b7da-ea07-45b7-8eea-0bf45a63dce8",
   "metadata": {},
   "outputs": [],
   "source": []
  },
  {
   "cell_type": "code",
   "execution_count": null,
   "id": "fc37d92e-5cd2-4b90-928f-251668adf80f",
   "metadata": {},
   "outputs": [],
   "source": []
  },
  {
   "cell_type": "markdown",
   "id": "47ab7e44-c50e-4011-8e40-79636ca99383",
   "metadata": {},
   "source": [
    "# Concatenate datasets"
   ]
  },
  {
   "cell_type": "code",
   "execution_count": 315,
   "id": "de55faee-2854-4a26-a5cb-61ba824a942e",
   "metadata": {},
   "outputs": [],
   "source": [
    "df = pd.DataFrame(columns=[\"publish_date\", \"abstract\"])\n",
    "for c in categories:\n",
    "    temp = pd.read_csv(f\"data/abstracts.{c}.csv\", names=[\"publish_date\", \"abstract\"])\n",
    "    df = pd.concat([df, temp])"
   ]
  },
  {
   "cell_type": "code",
   "execution_count": 316,
   "id": "f0e6b37a-b465-4f61-b8a6-d169ecca84ab",
   "metadata": {},
   "outputs": [
    {
     "data": {
      "text/plain": [
       "(189832, 2)"
      ]
     },
     "execution_count": 316,
     "metadata": {},
     "output_type": "execute_result"
    }
   ],
   "source": [
    "df.shape"
   ]
  },
  {
   "cell_type": "code",
   "execution_count": 317,
   "id": "deae27c6-fba5-4ec9-84f8-59a33268592f",
   "metadata": {},
   "outputs": [],
   "source": [
    "# drop duplicate rows (might have accidentally gathered duplicates \n",
    "# during the rough scraping process, or arxiv stores duplicates in some form)\n",
    "df = df.drop_duplicates()"
   ]
  },
  {
   "cell_type": "code",
   "execution_count": 318,
   "id": "165de093-e7d3-46a6-adef-15fa0a366e7a",
   "metadata": {},
   "outputs": [
    {
     "data": {
      "text/plain": [
       "(149500, 2)"
      ]
     },
     "execution_count": 318,
     "metadata": {},
     "output_type": "execute_result"
    }
   ],
   "source": [
    "df.shape"
   ]
  },
  {
   "cell_type": "code",
   "execution_count": 319,
   "id": "441553a5-5e22-4928-8d48-115d66ed9363",
   "metadata": {},
   "outputs": [],
   "source": [
    "n = df.shape[0]"
   ]
  },
  {
   "cell_type": "code",
   "execution_count": 320,
   "id": "27655534-5973-4b99-9537-36e71e9b147d",
   "metadata": {},
   "outputs": [],
   "source": [
    "num_train = int(0.8 * n)\n",
    "num_val = int(0.1 * n)\n",
    "num_test = n - num_train - num_val"
   ]
  },
  {
   "cell_type": "code",
   "execution_count": 321,
   "id": "87095e51-b7d1-4775-bcbc-71a96a626b5a",
   "metadata": {},
   "outputs": [
    {
     "data": {
      "text/plain": [
       "(119600, 14950, 14950)"
      ]
     },
     "execution_count": 321,
     "metadata": {},
     "output_type": "execute_result"
    }
   ],
   "source": [
    "num_train, num_val, num_test"
   ]
  },
  {
   "cell_type": "code",
   "execution_count": 322,
   "id": "5a65e44e-2fb6-4bd5-a421-8285f66794a1",
   "metadata": {},
   "outputs": [],
   "source": [
    "df = df.sample(frac=1)"
   ]
  },
  {
   "cell_type": "code",
   "execution_count": 323,
   "id": "95f993b1-4128-4628-bfbe-d3c8d914a28a",
   "metadata": {},
   "outputs": [
    {
     "data": {
      "text/html": [
       "<div>\n",
       "<style scoped>\n",
       "    .dataframe tbody tr th:only-of-type {\n",
       "        vertical-align: middle;\n",
       "    }\n",
       "\n",
       "    .dataframe tbody tr th {\n",
       "        vertical-align: top;\n",
       "    }\n",
       "\n",
       "    .dataframe thead th {\n",
       "        text-align: right;\n",
       "    }\n",
       "</style>\n",
       "<table border=\"1\" class=\"dataframe\">\n",
       "  <thead>\n",
       "    <tr style=\"text-align: right;\">\n",
       "      <th></th>\n",
       "      <th>publish_date</th>\n",
       "      <th>abstract</th>\n",
       "    </tr>\n",
       "  </thead>\n",
       "  <tbody>\n",
       "    <tr>\n",
       "      <th>23449</th>\n",
       "      <td>2017-09-06T18:09:15Z</td>\n",
       "      <td>Sarcasm occurring due to the presence of numer...</td>\n",
       "    </tr>\n",
       "    <tr>\n",
       "      <th>43514</th>\n",
       "      <td>2015-03-14T19:43:30Z</td>\n",
       "      <td>We devise a one-shot approach to distributed s...</td>\n",
       "    </tr>\n",
       "    <tr>\n",
       "      <th>12028</th>\n",
       "      <td>2020-06-10T17:43:43Z</td>\n",
       "      <td>Particle filtering is a popular method for inf...</td>\n",
       "    </tr>\n",
       "    <tr>\n",
       "      <th>12015</th>\n",
       "      <td>2021-04-05T06:39:12Z</td>\n",
       "      <td>Understanding the context of complex and clutt...</td>\n",
       "    </tr>\n",
       "    <tr>\n",
       "      <th>14262</th>\n",
       "      <td>2020-01-31T07:50:25Z</td>\n",
       "      <td>Conventional Generative Adversarial Networks (...</td>\n",
       "    </tr>\n",
       "    <tr>\n",
       "      <th>...</th>\n",
       "      <td>...</td>\n",
       "      <td>...</td>\n",
       "    </tr>\n",
       "    <tr>\n",
       "      <th>36061</th>\n",
       "      <td>2004-02-09T11:03:20Z</td>\n",
       "      <td>The fixpoint completion fix(P) of a normal log...</td>\n",
       "    </tr>\n",
       "    <tr>\n",
       "      <th>15621</th>\n",
       "      <td>2021-05-17T13:19:23Z</td>\n",
       "      <td>The appeal of serverless (FaaS) has triggered ...</td>\n",
       "    </tr>\n",
       "    <tr>\n",
       "      <th>13613</th>\n",
       "      <td>2020-03-25T19:24:05Z</td>\n",
       "      <td>The dominant approaches to text representation...</td>\n",
       "    </tr>\n",
       "    <tr>\n",
       "      <th>25418</th>\n",
       "      <td>2020-03-30T02:52:40Z</td>\n",
       "      <td>Semi-supervised learning (SSL) has been extens...</td>\n",
       "    </tr>\n",
       "    <tr>\n",
       "      <th>2546</th>\n",
       "      <td>2021-10-15T18:29:46Z</td>\n",
       "      <td>Plants are dynamic systems that are integral t...</td>\n",
       "    </tr>\n",
       "  </tbody>\n",
       "</table>\n",
       "<p>149500 rows × 2 columns</p>\n",
       "</div>"
      ],
      "text/plain": [
       "               publish_date                                           abstract\n",
       "23449  2017-09-06T18:09:15Z  Sarcasm occurring due to the presence of numer...\n",
       "43514  2015-03-14T19:43:30Z  We devise a one-shot approach to distributed s...\n",
       "12028  2020-06-10T17:43:43Z  Particle filtering is a popular method for inf...\n",
       "12015  2021-04-05T06:39:12Z  Understanding the context of complex and clutt...\n",
       "14262  2020-01-31T07:50:25Z  Conventional Generative Adversarial Networks (...\n",
       "...                     ...                                                ...\n",
       "36061  2004-02-09T11:03:20Z  The fixpoint completion fix(P) of a normal log...\n",
       "15621  2021-05-17T13:19:23Z  The appeal of serverless (FaaS) has triggered ...\n",
       "13613  2020-03-25T19:24:05Z  The dominant approaches to text representation...\n",
       "25418  2020-03-30T02:52:40Z  Semi-supervised learning (SSL) has been extens...\n",
       "2546   2021-10-15T18:29:46Z  Plants are dynamic systems that are integral t...\n",
       "\n",
       "[149500 rows x 2 columns]"
      ]
     },
     "execution_count": 323,
     "metadata": {},
     "output_type": "execute_result"
    }
   ],
   "source": [
    "df"
   ]
  },
  {
   "cell_type": "code",
   "execution_count": 324,
   "id": "c130aaab-f40f-4ca2-bd75-4a75455ee008",
   "metadata": {},
   "outputs": [],
   "source": [
    "train_df = df.iloc[:num_train, :]\n",
    "val_df = df.iloc[num_train:(num_train + num_val), :]\n",
    "test_df = df.iloc[(num_train + num_val):, :]"
   ]
  },
  {
   "cell_type": "code",
   "execution_count": 325,
   "id": "84528a1c-bd94-4136-a893-f0cf587d3eea",
   "metadata": {},
   "outputs": [
    {
     "data": {
      "text/plain": [
       "((119600, 2), (14950, 2), (14950, 2))"
      ]
     },
     "execution_count": 325,
     "metadata": {},
     "output_type": "execute_result"
    }
   ],
   "source": [
    "train_df.shape, val_df.shape, test_df.shape"
   ]
  },
  {
   "cell_type": "code",
   "execution_count": 326,
   "id": "222f8787-0858-45d0-9732-13e6b27d8f7e",
   "metadata": {},
   "outputs": [],
   "source": [
    "train_df.to_csv(\"data/abstracts_train.csv\", index=False)\n",
    "val_df.to_csv(\"data/abstracts_val.csv\", index=False)\n",
    "test_df.to_csv(\"data/abstracts_test.csv\", index=False)"
   ]
  },
  {
   "cell_type": "code",
   "execution_count": null,
   "id": "5fa4db33-434d-487b-ab1e-a66915ebfb61",
   "metadata": {},
   "outputs": [],
   "source": []
  },
  {
   "cell_type": "code",
   "execution_count": null,
   "id": "8a3a6191-f0c6-46b1-acc4-d8353eafedb1",
   "metadata": {},
   "outputs": [],
   "source": []
  }
 ],
 "metadata": {
  "kernelspec": {
   "display_name": "Python 3 (ipykernel)",
   "language": "python",
   "name": "python3"
  },
  "language_info": {
   "codemirror_mode": {
    "name": "ipython",
    "version": 3
   },
   "file_extension": ".py",
   "mimetype": "text/x-python",
   "name": "python",
   "nbconvert_exporter": "python",
   "pygments_lexer": "ipython3",
   "version": "3.9.5"
  }
 },
 "nbformat": 4,
 "nbformat_minor": 5
}
