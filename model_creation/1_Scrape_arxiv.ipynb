{
 "cells": [
  {
   "cell_type": "code",
   "execution_count": null,
   "id": "565b5065-e954-4882-b2ff-a3651b485339",
   "metadata": {},
   "outputs": [],
   "source": [
    "import numpy as np\n",
    "import pandas as pd\n",
    "from urllib.request import urlopen\n",
    "import xmltodict\n",
    "import time\n",
    "from tqdm import tqdm"
   ]
  },
  {
   "cell_type": "code",
   "execution_count": null,
   "id": "5260c2b3-28c4-4cd8-a60f-c63477845773",
   "metadata": {},
   "outputs": [],
   "source": [
    "categories = [\n",
    "    \"cs.ai\",\n",
    "    \"cs.cv\",\n",
    "    \"cs.lg\",\n",
    "    \"cs.cl\",\n",
    "    \"stat.ml\"\n",
    "]"
   ]
  },
  {
   "cell_type": "code",
   "execution_count": null,
   "id": "ce013ba1-3ff5-4993-92d5-98e7b85978e5",
   "metadata": {},
   "outputs": [],
   "source": [
    "\n",
    "def arxiv_abstracts(\n",
    "    category: str, start_index: int = 0, max_results: int = 100\n",
    ") -> pd.DataFrame:\n",
    "    \"\"\"\n",
    "    Scrapes arxiv for abstracts.\n",
    "    \"\"\"\n",
    "    url = (\n",
    "        f'http://export.arxiv.org/api/query?'\n",
    "        f'search_query=cat:{category}&'\n",
    "        f'start={start_index}&'\n",
    "        f'max_results={max_results}&'\n",
    "        f'sortBy=submittedDate&'\n",
    "        f'sortOrder=descending'\n",
    "    )\n",
    "    print(url)\n",
    "    raw_data = urlopen(url)\n",
    "    xml_data = raw_data.read().decode('utf-8')\n",
    "    data = xmltodict.parse(xml_data)\n",
    "    \n",
    "    df = pd.DataFrame(columns=[\"publish_date\", \"abstract\"])\n",
    "    abstracts = []\n",
    "    entries = data[\"feed\"].get(\"entry\")\n",
    "    if entries:\n",
    "        for entry in entries:\n",
    "            publish_date = entry[\"published\"]\n",
    "            summary = entry[\"summary\"].replace(\"\\n\", \" \")\n",
    "            df = pd.concat([\n",
    "                df, \n",
    "                pd.DataFrame({\n",
    "                    \"publish_date\": [publish_date], \"abstract\": [summary]\n",
    "                })\n",
    "            ])\n",
    "    else:\n",
    "        print(f\"Empty df: {category}, {start_index}, {max_results}\")\n",
    "        \n",
    "    return df.reset_index(drop=True)\n",
    "    "
   ]
  },
  {
   "cell_type": "code",
   "execution_count": null,
   "id": "f6ffa25e-b15e-4647-9b57-5c6c8f7fe7bb",
   "metadata": {},
   "outputs": [],
   "source": [
    "categories = [\n",
    "    \"cs.cv\",\n",
    "    \"cs.lg\",\n",
    "    \"stat.ml\"\n",
    "]\n",
    "max_results = 250\n",
    "for start_index in tqdm(range(47_000, 200_000, max_results)):\n",
    "    for c in categories:\n",
    "        df = arxiv_abstracts(c, start_index, max_results)\n",
    "        df.to_csv(f'data/abstracts.{c}.csv', mode='a', header=False, index=False)\n",
    "        time.sleep(2)"
   ]
  },
  {
   "cell_type": "markdown",
   "id": "47ab7e44-c50e-4011-8e40-79636ca99383",
   "metadata": {},
   "source": [
    "# Concatenate datasets"
   ]
  },
  {
   "cell_type": "code",
   "execution_count": null,
   "id": "de55faee-2854-4a26-a5cb-61ba824a942e",
   "metadata": {},
   "outputs": [],
   "source": [
    "df = pd.DataFrame(columns=[\"publish_date\", \"abstract\"])\n",
    "for c in categories:\n",
    "    temp = pd.read_csv(f\"data/abstracts.{c}.csv\", names=[\"publish_date\", \"abstract\"])\n",
    "    df = pd.concat([df, temp])"
   ]
  },
  {
   "cell_type": "code",
   "execution_count": null,
   "id": "f0e6b37a-b465-4f61-b8a6-d169ecca84ab",
   "metadata": {},
   "outputs": [],
   "source": [
    "df.shape"
   ]
  },
  {
   "cell_type": "code",
   "execution_count": null,
   "id": "deae27c6-fba5-4ec9-84f8-59a33268592f",
   "metadata": {},
   "outputs": [],
   "source": [
    "# drop duplicate rows (might have accidentally gathered duplicates \n",
    "# during the rough scraping process, or arxiv stores duplicates in some form)\n",
    "df = df.drop_duplicates()"
   ]
  },
  {
   "cell_type": "code",
   "execution_count": null,
   "id": "165de093-e7d3-46a6-adef-15fa0a366e7a",
   "metadata": {},
   "outputs": [],
   "source": [
    "df.shape"
   ]
  },
  {
   "cell_type": "code",
   "execution_count": null,
   "id": "441553a5-5e22-4928-8d48-115d66ed9363",
   "metadata": {},
   "outputs": [],
   "source": [
    "n = df.shape[0]"
   ]
  },
  {
   "cell_type": "code",
   "execution_count": null,
   "id": "27655534-5973-4b99-9537-36e71e9b147d",
   "metadata": {},
   "outputs": [],
   "source": [
    "num_train = int(0.8 * n)\n",
    "num_val = int(0.1 * n)\n",
    "num_test = n - num_train - num_val"
   ]
  },
  {
   "cell_type": "code",
   "execution_count": null,
   "id": "87095e51-b7d1-4775-bcbc-71a96a626b5a",
   "metadata": {},
   "outputs": [],
   "source": [
    "num_train, num_val, num_test"
   ]
  },
  {
   "cell_type": "code",
   "execution_count": null,
   "id": "5a65e44e-2fb6-4bd5-a421-8285f66794a1",
   "metadata": {},
   "outputs": [],
   "source": [
    "df = df.sample(frac=1)"
   ]
  },
  {
   "cell_type": "code",
   "execution_count": null,
   "id": "95f993b1-4128-4628-bfbe-d3c8d914a28a",
   "metadata": {},
   "outputs": [],
   "source": [
    "df"
   ]
  },
  {
   "cell_type": "code",
   "execution_count": null,
   "id": "c130aaab-f40f-4ca2-bd75-4a75455ee008",
   "metadata": {},
   "outputs": [],
   "source": [
    "train_df = df.iloc[:num_train, :]\n",
    "val_df = df.iloc[num_train:(num_train + num_val), :]\n",
    "test_df = df.iloc[(num_train + num_val):, :]"
   ]
  },
  {
   "cell_type": "code",
   "execution_count": null,
   "id": "84528a1c-bd94-4136-a893-f0cf587d3eea",
   "metadata": {},
   "outputs": [],
   "source": [
    "train_df.shape, val_df.shape, test_df.shape"
   ]
  },
  {
   "cell_type": "code",
   "execution_count": null,
   "id": "222f8787-0858-45d0-9732-13e6b27d8f7e",
   "metadata": {},
   "outputs": [],
   "source": [
    "train_df.to_csv(\"data/abstracts_train.csv\", index=False)\n",
    "val_df.to_csv(\"data/abstracts_val.csv\", index=False)\n",
    "test_df.to_csv(\"data/abstracts_test.csv\", index=False)"
   ]
  }
 ],
 "metadata": {
  "kernelspec": {
   "display_name": "Python 3 (ipykernel)",
   "language": "python",
   "name": "python3"
  },
  "language_info": {
   "codemirror_mode": {
    "name": "ipython",
    "version": 3
   },
   "file_extension": ".py",
   "mimetype": "text/x-python",
   "name": "python",
   "nbconvert_exporter": "python",
   "pygments_lexer": "ipython3",
   "version": "3.9.16"
  }
 },
 "nbformat": 4,
 "nbformat_minor": 5
}
